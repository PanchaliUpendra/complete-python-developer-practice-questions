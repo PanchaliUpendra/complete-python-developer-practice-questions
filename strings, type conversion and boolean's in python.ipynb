{
 "cells": [
  {
   "cell_type": "code",
   "execution_count": 1,
   "metadata": {},
   "outputs": [],
   "source": [
    "#one of the main concepts in python is \"strings\"\n",
    "# string :- a sequence of character's known as string.In python a string  can be any form as like as 'single' or \"double\" quotes.\n",
    "\n",
    "# note:- \"type()\" is a keyword which is used to know the type of a given variable.\n",
    "\n",
    "# we can print a string in three types: 'ubbu' , \"upendra\" , ''' fro long strings''' ."
   ]
  },
  {
   "cell_type": "code",
   "execution_count": 5,
   "metadata": {},
   "outputs": [
    {
     "name": "stdout",
     "output_type": "stream",
     "text": [
      "panchali_upendra is my \"insta_id\"\n"
     ]
    }
   ],
   "source": [
    "# Write a program for better understanding of \"strings\";\n",
    "first_name= 'upendra';\n",
    "second_name=\"panchali\";\n",
    "final_name=second_name+\"_\"+first_name\n",
    "print(final_name+\" is my \\\"insta_id\\\"\")#note:we use the \"\\\"(slash) to avoid the error in string by using \"\" or'' in strings"
   ]
  },
  {
   "cell_type": "code",
   "execution_count": 6,
   "metadata": {},
   "outputs": [],
   "source": [
    "#note: string concatenation works only on strings\n",
    "# ('upendra'+9)-->error ('upendra'+'9')--> upendra9"
   ]
  },
  {
   "cell_type": "code",
   "execution_count": 8,
   "metadata": {},
   "outputs": [
    {
     "name": "stdout",
     "output_type": "stream",
     "text": [
      "<class 'str'>\n",
      "<class 'int'>\n",
      "<class 'float'>\n"
     ]
    }
   ],
   "source": [
    "#type conversion:- \n",
    "\n",
    "print(type(str(100)))\n",
    "a='100'\n",
    "b=int(a)\n",
    "print(type(b))\n",
    "c=float(b)\n",
    "print(type(c))"
   ]
  },
  {
   "cell_type": "code",
   "execution_count": 10,
   "metadata": {},
   "outputs": [
    {
     "name": "stdout",
     "output_type": "stream",
     "text": [
      "hi johny,you are 55 years old\n",
      "hi johny,you are 55 years old\n",
      "hi johny, you are 55 years old!!\n",
      "hi 20, you are ubbu year's old\n",
      "hi sally, you are 100 years old\n"
     ]
    }
   ],
   "source": [
    "#formatted strings examples:-\n",
    "name='johny'\n",
    "age=55\n",
    "\n",
    "print(f'hi {name},you are {age} years old')\n",
    "\n",
    "print('hi {},you are {} years old'.format('johny','55'))\n",
    "\n",
    "print('hi {}, you are {} years old!!'.format(name,age))\n",
    "\n",
    "print('hi {1}, you are {0} year\\'s old'.format('ubbu','20'))\n",
    "\n",
    "print('hi {new_name}, you are {new_age} years old'.format(new_name='sally',new_age=100))"
   ]
  },
  {
   "cell_type": "code",
   "execution_count": 11,
   "metadata": {},
   "outputs": [
    {
     "name": "stdout",
     "output_type": "stream",
     "text": [
      "me me me\n",
      "m\n",
      "me\n",
      "0246\n",
      "me me me\n",
      "e me me\n",
      "01234\n",
      "7\n",
      "01234567\n",
      "76543210\n"
     ]
    }
   ],
   "source": [
    "#string indexes:-\n",
    "selfish = \"me me me\"\n",
    "\n",
    "print(selfish)\n",
    "print(selfish[0])\n",
    "\n",
    "#[start: stop]\n",
    "print(selfish[0:2])\n",
    "\n",
    "#[start:stop:stepover]\n",
    "ubbu=\"01234567\"\n",
    "print(ubbu[0:8:2])\n",
    "\n",
    "#[:]\n",
    "print(selfish[:])\n",
    "\n",
    "#[1:]\n",
    "print(selfish[1:]);\n",
    "\n",
    "#[:5]\n",
    "print(ubbu[:5])\n",
    "\n",
    "#[-1]\n",
    "print(ubbu[-1])\n",
    "\n",
    "#[::1]\n",
    "print(ubbu[::1])\n",
    "\n",
    "#[::-1]\n",
    "print(ubbu[::-1])"
   ]
  },
  {
   "cell_type": "code",
   "execution_count": 13,
   "metadata": {},
   "outputs": [
    {
     "name": "stdout",
     "output_type": "stream",
     "text": [
      "to me or not to me\n",
      "to be or not to be\n",
      "TO BE OR NOT TO BE\n",
      "To be or not to be\n"
     ]
    }
   ],
   "source": [
    "#immutability:- string's in python are immutabl\n",
    "#(ubbu=\"12345678\",if ubbu[0]='9' --> error)\n",
    "quote='to be or not to be'\n",
    "quote2=quote.replace('be','me')\n",
    "print(quote2)\n",
    "print(quote)#example for string immutability\n",
    "print(quote.upper())\n",
    "print(quote.capitalize())"
   ]
  },
  {
   "cell_type": "code",
   "execution_count": 14,
   "metadata": {},
   "outputs": [
    {
     "name": "stdout",
     "output_type": "stream",
     "text": [
      "False\n",
      "True\n"
     ]
    }
   ],
   "source": [
    "#Booleans:- bool have two values  . those are true and false\n",
    "\n",
    "print(bool(0))\n",
    "print(bool(1))"
   ]
  },
  {
   "cell_type": "code",
   "execution_count": null,
   "metadata": {},
   "outputs": [],
   "source": []
  }
 ],
 "metadata": {
  "kernelspec": {
   "display_name": "Python 3",
   "language": "python",
   "name": "python3"
  },
  "language_info": {
   "codemirror_mode": {
    "name": "ipython",
    "version": 3
   },
   "file_extension": ".py",
   "mimetype": "text/x-python",
   "name": "python",
   "nbconvert_exporter": "python",
   "pygments_lexer": "ipython3",
   "version": "3.8.3"
  }
 },
 "nbformat": 4,
 "nbformat_minor": 4
}
