{
 "cells": [
  {
   "cell_type": "code",
   "execution_count": null,
   "metadata": {},
   "outputs": [],
   "source": [
    "#the main \"data types\" in python are :int , float, bool, str,list, tuple, set, dict\n",
    "\n",
    "#\"variables\" : the which is used to assign and store the value or data.\n",
    "    #--> snake_case\n",
    "    #--> start with lowercase or underscore\n",
    "    #--> letters, numbers, underscore,$\n",
    "    #-->case sensitive\n",
    "    #-->Don't overwrite keywords\n",
    "\n",
    "#identifiers and variables are similar but not same;\n",
    "\n",
    "#\"print\" keyword used to print the output.\n",
    "\n",
    "#\"input\" keyword is used to take information from user;"
   ]
  },
  {
   "cell_type": "code",
   "execution_count": 1,
   "metadata": {},
   "outputs": [
    {
     "name": "stdout",
     "output_type": "stream",
     "text": [
      "enter your name:panchali upendra\n",
      "panchali upendra\n"
     ]
    }
   ],
   "source": [
    "#Write a Program to print your name;\n",
    "ubbu=input(\"enter your name:\")\n",
    "print(ubbu)"
   ]
  },
  {
   "cell_type": "code",
   "execution_count": 2,
   "metadata": {},
   "outputs": [],
   "source": [
    "# \"a+b\" is known as expression \n",
    "# \"k=(a+b)/5\" is known as statement\n",
    "# where \"a\" and \"b\" are operands, \"+\" is operator\n",
    "#operator's: \n",
    "    #--> \"(),**,* /,+ -\", precedence from left to right"
   ]
  },
  {
   "cell_type": "code",
   "execution_count": 6,
   "metadata": {},
   "outputs": [
    {
     "name": "stdout",
     "output_type": "stream",
     "text": [
      "enter your first number: 4\n",
      "enter your second number: 2\n",
      "the multiplication of a and b is:  8\n",
      "the addition of two numbers:  6\n",
      "the subtraction of two numbers:  2\n",
      "the division of two numbers:  2.0\n",
      "the modulues of two numbers:  2.0\n",
      "the power of two numbers:  16\n"
     ]
    }
   ],
   "source": [
    "# multiplication of two numbers \n",
    "a = int(input(\"enter your first number: \"))\n",
    "b = int(input(\"enter your second number: \"))\n",
    "print(\"the multiplication of a and b is: \",(a*b))\n",
    "\n",
    "# addition of two numbers\n",
    "print(\"the addition of two numbers: \",(a+b))\n",
    "\n",
    "#subtraction of two numbers\n",
    "print(\"the subtraction of two numbers: \",(a-b))\n",
    "\n",
    "#division of two numbers\n",
    "print(\"the division of two numbers: \",(a/b));\n",
    "\n",
    "#modulues of two numbers\n",
    "print(\"the modulues of two numbers: \",(a/b));\n",
    "\n",
    "#power of two numbers\n",
    "print(\"the power of two numbers: \",(a**b));"
   ]
  },
  {
   "cell_type": "code",
   "execution_count": 7,
   "metadata": {},
   "outputs": [],
   "source": [
    "# Augmented Assignment operator\n",
    "# \"=\" assign operator, \"==\" equal to\n",
    "#--> \" -= , +=, *= , /= , %= \""
   ]
  },
  {
   "cell_type": "code",
   "execution_count": 10,
   "metadata": {},
   "outputs": [
    {
     "name": "stdout",
     "output_type": "stream",
     "text": [
      "enter some value: 7\n",
      "(some_value = some_value+2) :  9\n",
      "(some_value +=2):  11\n",
      "(some_value*=2):  22\n"
     ]
    }
   ],
   "source": [
    "some_value = int(input(\"enter some value: \"))\n",
    "some_value = some_value + 2;\n",
    "print(\"(some_value = some_value+2) : \",some_value);\n",
    "\n",
    "#adding and assigning to a variable\n",
    "some_value+=2;\n",
    "print(\"(some_value +=2): \",some_value)\n",
    "\n",
    "#multiplying and assinging to a variable\n",
    "some_value*=2;\n",
    "print(\"(some_value*=2): \",some_value)"
   ]
  },
  {
   "cell_type": "code",
   "execution_count": null,
   "metadata": {},
   "outputs": [],
   "source": []
  }
 ],
 "metadata": {
  "kernelspec": {
   "display_name": "Python 3",
   "language": "python",
   "name": "python3"
  },
  "language_info": {
   "codemirror_mode": {
    "name": "ipython",
    "version": 3
   },
   "file_extension": ".py",
   "mimetype": "text/x-python",
   "name": "python",
   "nbconvert_exporter": "python",
   "pygments_lexer": "ipython3",
   "version": "3.8.3"
  }
 },
 "nbformat": 4,
 "nbformat_minor": 4
}
