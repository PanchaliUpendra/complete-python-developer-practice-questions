{
 "cells": [
  {
   "cell_type": "code",
   "execution_count": 1,
   "metadata": {},
   "outputs": [],
   "source": [
    "#list's:-\n",
    "#list's , also known as sequence of items divide by comma.\n",
    "# lists are indicate or start with square brackets\"[]\"\n",
    "\n",
    "li=[1,2,3,4,5]\n",
    "l2=['a','b','c','d','e']\n",
    "\n",
    "#we ccn combine different data type \n",
    "l3=[1,3,'a','b',True]"
   ]
  },
  {
   "cell_type": "code",
   "execution_count": 2,
   "metadata": {},
   "outputs": [
    {
     "name": "stdout",
     "output_type": "stream",
     "text": [
      "pens\n",
      "laptops\n"
     ]
    }
   ],
   "source": [
    "amazon=[\"apples\",\"notebooks\",\"pens\",\"erasers\",\"laptops\"]\n",
    "print(amazon[2])\n",
    "print(amazon[-1])"
   ]
  },
  {
   "cell_type": "code",
   "execution_count": 3,
   "metadata": {},
   "outputs": [
    {
     "name": "stdout",
     "output_type": "stream",
     "text": [
      "['apples', 'notebooks', 'pens', 'erasers', 'laptops']\n",
      "['apples', 'notebooks']\n",
      "['apples', 'pens', 'laptops']\n"
     ]
    }
   ],
   "source": [
    "# list slicing:-\n",
    "\n",
    "print(amazon)\n",
    "print(amazon[0:2])\n",
    "print(amazon[0::2])"
   ]
  },
  {
   "cell_type": "code",
   "execution_count": 6,
   "metadata": {},
   "outputs": [
    {
     "name": "stdout",
     "output_type": "stream",
     "text": [
      "gum\n",
      "['laptop', 'sunglasses', 'toys', 'grapes']\n"
     ]
    }
   ],
   "source": [
    "# Note:- of course, strings and lists have similar properties but \"strings are immutable \" , where \"lists are mutable\".\n",
    "\n",
    "#another tricky question:-\n",
    "amazon_cart=[\n",
    "    'notebook',\n",
    "    'sunglasses',\n",
    "    'toys',\n",
    "    'grapes'\n",
    "]\n",
    "amazon_cart[0]='laptop';\n",
    "new_cart=amazon_cart[:]\n",
    "new_cart='gum'\n",
    "print(new_cart)\n",
    "print(amazon_cart)"
   ]
  },
  {
   "cell_type": "code",
   "execution_count": 7,
   "metadata": {},
   "outputs": [
    {
     "name": "stdout",
     "output_type": "stream",
     "text": [
      "2\n"
     ]
    }
   ],
   "source": [
    "# matrix:- by using list \n",
    "# i use the term \"array\" here since this is a concept that applies to multiple languages where arrays are common. we will see\n",
    "# lists vs arrays later\n",
    "matrix = [\n",
    "    [1,2,3],[4,5,6],[7,8,9]\n",
    "]\n",
    "print(matrix[0][1])"
   ]
  },
  {
   "cell_type": "code",
   "execution_count": 9,
   "metadata": {},
   "outputs": [
    {
     "name": "stdout",
     "output_type": "stream",
     "text": [
      "6\n",
      "[1, 2, 3, 4, 5, 6, 100]\n",
      "None\n",
      "[1, 2, 3, 4, 5, 6, 100, 120]\n"
     ]
    }
   ],
   "source": [
    "# list methods:-\n",
    "\n",
    "basket=[1,2,3,4,5,6]\n",
    "print(len(basket))\n",
    "\n",
    "new_list=basket.append(100)\n",
    "print(basket)\n",
    "print(new_list) # here the output is None because in python lists can assign once in statement , such that 100 append and assign to basket\n",
    "\n",
    "basket.append(120)\n",
    "new_list=basket # here we can understand simply\n",
    "print(new_list)"
   ]
  },
  {
   "cell_type": "code",
   "execution_count": 11,
   "metadata": {},
   "outputs": [
    {
     "name": "stdout",
     "output_type": "stream",
     "text": [
      "[1, 2, 3, 4, 100, 100, 5, 6, 100, 120, 100, 101]\n",
      "[1, 2, 3, 4, 100, 100, 5, 6, 100, 120, 100, 101, 100, 101]\n"
     ]
    }
   ],
   "source": [
    "# inserting an element at any index places\n",
    "\n",
    "basket.insert(4,100)\n",
    "print(basket)\n",
    "\n",
    "basket.extend([100,101])\n",
    "print(basket)"
   ]
  },
  {
   "cell_type": "code",
   "execution_count": 14,
   "metadata": {},
   "outputs": [
    {
     "name": "stdout",
     "output_type": "stream",
     "text": [
      "[1, 3, 4, 5]\n"
     ]
    }
   ],
   "source": [
    "# removing the element :-\n",
    "\n",
    "ubbu=[1,3,4,5,6];\n",
    "ubbu.pop();\n",
    "print(ubbu)"
   ]
  },
  {
   "cell_type": "code",
   "execution_count": 15,
   "metadata": {},
   "outputs": [
    {
     "name": "stdout",
     "output_type": "stream",
     "text": [
      "[2, 3, 4, 5]\n"
     ]
    }
   ],
   "source": [
    "#removing the elements by using the elements\n",
    "\n",
    "basket=[1,2,3,4,5]\n",
    "basket.pop(0) #here we have to give index number\n",
    "print(basket)"
   ]
  },
  {
   "cell_type": "code",
   "execution_count": 16,
   "metadata": {},
   "outputs": [
    {
     "name": "stdout",
     "output_type": "stream",
     "text": [
      "[1, 2, 3, 5]\n"
     ]
    }
   ],
   "source": [
    "# also we can remove the value directly using value with \"remove\" keyword\n",
    "basket=[1,2,3,4,5]\n",
    "basket.remove(4)\n",
    "print(basket)"
   ]
  },
  {
   "cell_type": "code",
   "execution_count": 18,
   "metadata": {},
   "outputs": [
    {
     "name": "stdout",
     "output_type": "stream",
     "text": [
      "3\n"
     ]
    }
   ],
   "source": [
    "# note :- small tricky question\n",
    "\n",
    "new_list=basket.pop(2)\n",
    "print(new_list)"
   ]
  },
  {
   "cell_type": "code",
   "execution_count": 19,
   "metadata": {},
   "outputs": [
    {
     "name": "stdout",
     "output_type": "stream",
     "text": [
      "9\n"
     ]
    }
   ],
   "source": [
    "#finding the index value of the elements\n",
    "basket=[1,2,3,4,5,6,7,8,100,200,500,600]\n",
    "print(basket.index(200))#the index number of the given number\n"
   ]
  },
  {
   "cell_type": "code",
   "execution_count": 20,
   "metadata": {},
   "outputs": [
    {
     "name": "stdout",
     "output_type": "stream",
     "text": [
      "3\n"
     ]
    },
    {
     "ename": "ValueError",
     "evalue": "'d' is not in list",
     "output_type": "error",
     "traceback": [
      "\u001b[1;31m---------------------------------------------------------------------------\u001b[0m",
      "\u001b[1;31mValueError\u001b[0m                                Traceback (most recent call last)",
      "\u001b[1;32m<ipython-input-20-728a992f1df8>\u001b[0m in \u001b[0;36m<module>\u001b[1;34m\u001b[0m\n\u001b[0;32m      3\u001b[0m \u001b[0mbasket\u001b[0m\u001b[1;33m=\u001b[0m\u001b[1;33m[\u001b[0m\u001b[1;34m'a'\u001b[0m\u001b[1;33m,\u001b[0m\u001b[1;34m'b'\u001b[0m\u001b[1;33m,\u001b[0m\u001b[1;34m'c'\u001b[0m\u001b[1;33m,\u001b[0m\u001b[1;34m'd'\u001b[0m\u001b[1;33m,\u001b[0m\u001b[1;34m'e'\u001b[0m\u001b[1;33m,\u001b[0m\u001b[1;34m'f'\u001b[0m\u001b[1;33m]\u001b[0m\u001b[1;33m\u001b[0m\u001b[1;33m\u001b[0m\u001b[0m\n\u001b[0;32m      4\u001b[0m \u001b[0mprint\u001b[0m\u001b[1;33m(\u001b[0m\u001b[0mbasket\u001b[0m\u001b[1;33m.\u001b[0m\u001b[0mindex\u001b[0m\u001b[1;33m(\u001b[0m\u001b[1;34m'd'\u001b[0m\u001b[1;33m)\u001b[0m\u001b[1;33m)\u001b[0m\u001b[1;33m\u001b[0m\u001b[1;33m\u001b[0m\u001b[0m\n\u001b[1;32m----> 5\u001b[1;33m \u001b[0mprint\u001b[0m\u001b[1;33m(\u001b[0m\u001b[0mbasket\u001b[0m\u001b[1;33m.\u001b[0m\u001b[0mindex\u001b[0m\u001b[1;33m(\u001b[0m\u001b[1;34m'd'\u001b[0m\u001b[1;33m,\u001b[0m\u001b[1;36m0\u001b[0m\u001b[1;33m,\u001b[0m\u001b[1;36m3\u001b[0m\u001b[1;33m)\u001b[0m\u001b[1;33m)\u001b[0m\u001b[1;31m# range from 0 to 3\u001b[0m\u001b[1;33m\u001b[0m\u001b[1;33m\u001b[0m\u001b[0m\n\u001b[0m",
      "\u001b[1;31mValueError\u001b[0m: 'd' is not in list"
     ]
    }
   ],
   "source": [
    "#finding the index element of the given numberb in a given range\n",
    "\n",
    "basket=['a','b','c','d','e','f']\n",
    "print(basket.index('d'))\n",
    "print(basket.index('d',0,3))# range from 0 to 3"
   ]
  },
  {
   "cell_type": "code",
   "execution_count": 21,
   "metadata": {},
   "outputs": [
    {
     "name": "stdout",
     "output_type": "stream",
     "text": [
      "True\n",
      "False\n"
     ]
    }
   ],
   "source": [
    "#to solve the above error \n",
    "print('d' in basket)\n",
    "print('x' in basket)"
   ]
  },
  {
   "cell_type": "code",
   "execution_count": 22,
   "metadata": {},
   "outputs": [
    {
     "name": "stdout",
     "output_type": "stream",
     "text": [
      "False\n"
     ]
    }
   ],
   "source": [
    "#note: ofcourse , we can use this method in strings \n",
    "print('p' in 'hi my name is ubbu')"
   ]
  },
  {
   "cell_type": "code",
   "execution_count": 24,
   "metadata": {},
   "outputs": [
    {
     "name": "stdout",
     "output_type": "stream",
     "text": [
      "2\n"
     ]
    }
   ],
   "source": [
    "basket=['a','c','e','d','a','e','a','d','h']\n",
    "print(basket.count('d')) #counting number of \"d\" s in a give list"
   ]
  },
  {
   "cell_type": "code",
   "execution_count": 25,
   "metadata": {},
   "outputs": [
    {
     "name": "stdout",
     "output_type": "stream",
     "text": [
      "None\n",
      "['a', 'a', 'a', 'c', 'd', 'd', 'e', 'e', 'h']\n"
     ]
    }
   ],
   "source": [
    "# sorint the given list \n",
    "print(basket.sort()) #note none\n",
    "\n",
    "basket.sort()\n",
    "print(basket)# getting correct answer"
   ]
  },
  {
   "cell_type": "code",
   "execution_count": 28,
   "metadata": {},
   "outputs": [
    {
     "name": "stdout",
     "output_type": "stream",
     "text": [
      "['a', 'b', 'c', 'e', 'f', 'g', 'i', 'j', 'l', 'q', 'w']\n",
      "['q', 'w', 'e', 'f', 'g', 'j', 'l', 'i', 'a', 'b', 'c']\n"
     ]
    }
   ],
   "source": [
    "#note: in python we have a \"sorted\" keyword also known \"sorted function\"\n",
    "basket=['q','w','e','f','g','j','l','i','a','b','c']\n",
    "print(sorted(basket))# here sorted basket is printing\n",
    "print(basket) # but here basket wouldn't modified\n",
    "\n",
    "# these are the differences blw \"sort\" and \"sorted\""
   ]
  },
  {
   "cell_type": "code",
   "execution_count": 29,
   "metadata": {},
   "outputs": [
    {
     "name": "stdout",
     "output_type": "stream",
     "text": [
      "['q', 'w', 'e', 'f', 'g', 'j', 'l', 'i', 'a', 'b', 'c']\n",
      "['c', 'b', 'a', 'i', 'l', 'j', 'g', 'f', 'e', 'w', 'q']\n"
     ]
    }
   ],
   "source": [
    "#reversing the elements of a list\n",
    "\n",
    "print(basket)\n",
    "basket.reverse()\n",
    "print(basket)"
   ]
  },
  {
   "cell_type": "code",
   "execution_count": 1,
   "metadata": {},
   "outputs": [
    {
     "name": "stdout",
     "output_type": "stream",
     "text": [
      "['a', 'b', 'c', 'd', 'd', 'e', 'x']\n",
      "['x', 'e', 'd', 'd', 'c', 'b', 'a']\n"
     ]
    }
   ],
   "source": [
    "#common list pattern:-\n",
    "basket=['a','x','b','c','d','e','d']\n",
    "basket.sort()\n",
    "basket.reverse()\n",
    "print(basket[::-1])\n",
    "print(basket)"
   ]
  },
  {
   "cell_type": "code",
   "execution_count": 4,
   "metadata": {},
   "outputs": [
    {
     "name": "stdout",
     "output_type": "stream",
     "text": [
      "[0, 1, 2, 3, 4, 5, 6, 7, 8, 9, 10, 11, 12, 13, 14, 15, 16, 17, 18, 19, 20, 21, 22, 23, 24, 25, 26, 27, 28, 29, 30, 31, 32, 33, 34, 35, 36, 37, 38, 39, 40, 41, 42, 43, 44, 45, 46, 47, 48, 49, 50, 51, 52, 53, 54, 55, 56, 57, 58, 59, 60, 61, 62, 63, 64, 65, 66, 67, 68, 69, 70, 71, 72, 73, 74, 75, 76, 77, 78, 79, 80, 81, 82, 83, 84, 85, 86, 87, 88, 89, 90, 91, 92, 93, 94, 95, 96, 97, 98, 99]\n"
     ]
    }
   ],
   "source": [
    "print(list(range(0,100)))"
   ]
  },
  {
   "cell_type": "code",
   "execution_count": 13,
   "metadata": {},
   "outputs": [
    {
     "name": "stdout",
     "output_type": "stream",
     "text": [
      "my!name\n"
     ]
    }
   ],
   "source": [
    "#using of \"join\" keyword\n",
    "sentence='!'\n",
    "new_sentence=sentence.join(['my','name','is','panchali','upendra'])\n",
    "print(new_sentence)"
   ]
  },
  {
   "cell_type": "code",
   "execution_count": 14,
   "metadata": {},
   "outputs": [
    {
     "name": "stdout",
     "output_type": "stream",
     "text": [
      "my name is panchali upendra\n"
     ]
    }
   ],
   "source": [
    "new_sentence=' '.join(['my','name','is','panchali','upendra'])\n",
    "print(new_sentence)"
   ]
  },
  {
   "cell_type": "code",
   "execution_count": 15,
   "metadata": {},
   "outputs": [
    {
     "name": "stdout",
     "output_type": "stream",
     "text": [
      "1\n",
      "2\n",
      "4\n"
     ]
    }
   ],
   "source": [
    "#list unpacking:\n",
    "a,b,c=[1,2,4]\n",
    "\n",
    "print(a)\n",
    "print(b)\n",
    "print(c)\n"
   ]
  },
  {
   "cell_type": "code",
   "execution_count": 16,
   "metadata": {},
   "outputs": [
    {
     "name": "stdout",
     "output_type": "stream",
     "text": [
      "[4, 5, 6, 7, 8, 9, 10]\n"
     ]
    }
   ],
   "source": [
    "a,b,c,*other=[1,2,3,4,5,6,7,8,9,10]\n",
    "print(other)"
   ]
  },
  {
   "cell_type": "code",
   "execution_count": 17,
   "metadata": {},
   "outputs": [
    {
     "name": "stdout",
     "output_type": "stream",
     "text": [
      "[1, 2, 3, 4, 5, 6, 7]\n"
     ]
    }
   ],
   "source": [
    "*other,a,b,c=[1,2,3,4,5,6,7,8,9,10]\n",
    "print(other)"
   ]
  },
  {
   "cell_type": "code",
   "execution_count": null,
   "metadata": {},
   "outputs": [],
   "source": [
    "# \"None\" is a keyword which is used to assign for nothing"
   ]
  }
 ],
 "metadata": {
  "kernelspec": {
   "display_name": "Python 3",
   "language": "python",
   "name": "python3"
  },
  "language_info": {
   "codemirror_mode": {
    "name": "ipython",
    "version": 3
   },
   "file_extension": ".py",
   "mimetype": "text/x-python",
   "name": "python",
   "nbconvert_exporter": "python",
   "pygments_lexer": "ipython3",
   "version": "3.8.3"
  }
 },
 "nbformat": 4,
 "nbformat_minor": 4
}
